{
  "nbformat": 4,
  "nbformat_minor": 0,
  "metadata": {
    "colab": {
      "name": "Probability and Stochastic Final Project.ipynb",
      "provenance": [],
      "collapsed_sections": [],
      "authorship_tag": "ABX9TyN2zVPeMUv6zBJFhiHuVE3Z",
      "include_colab_link": true
    },
    "kernelspec": {
      "name": "python3",
      "display_name": "Python 3"
    },
    "language_info": {
      "name": "python"
    }
  },
  "cells": [
    {
      "cell_type": "markdown",
      "metadata": {
        "id": "view-in-github",
        "colab_type": "text"
      },
      "source": [
        "<a href=\"https://colab.research.google.com/github/puckybreg/625.721-Poisson-Mixtures-Final-Project/blob/main/Probability_and_Stochastic_Final_Project.ipynb\" target=\"_parent\"><img src=\"https://colab.research.google.com/assets/colab-badge.svg\" alt=\"Open In Colab\"/></a>"
      ]
    },
    {
      "cell_type": "code",
      "metadata": {
        "colab": {
          "base_uri": "https://localhost:8080/"
        },
        "id": "tQcnjQAB6Hnh",
        "outputId": "39fa2edb-0555-4846-bcaa-08e4cb03d3b5"
      },
      "source": [
        "import nltk\n",
        "import matplotlib.pyplot as plt\n",
        "import pandas as pd\n",
        "import math\n",
        "from nltk.corpus import brown\n",
        "import numpy as np\n",
        "from scipy.special import factorial\n",
        "from scipy.stats import poisson, nbinom, chisquare\n",
        "from scipy.interpolate import make_interp_spline\n",
        "from operator import attrgetter\n",
        "\n",
        "# MLE imports\n",
        "# import seaborn as sns\n",
        "# from scipy.optimize import minimize\n",
        "# import scipy.stats as stats\n",
        "# import pymc3 as pm3\n",
        "# import statsmodels.api as sm\n",
        "# from statsmodels.base.model import GenericLikelihoodModel\n",
        "%matplotlib inline\n",
        "nltk.download('brown')\n",
        "brown.words()[:10]"
      ],
      "execution_count": null,
      "outputs": [
        {
          "output_type": "stream",
          "name": "stdout",
          "text": [
            "[nltk_data] Downloading package brown to /root/nltk_data...\n",
            "[nltk_data]   Package brown is already up-to-date!\n"
          ]
        },
        {
          "output_type": "execute_result",
          "data": {
            "text/plain": [
              "['The',\n",
              " 'Fulton',\n",
              " 'County',\n",
              " 'Grand',\n",
              " 'Jury',\n",
              " 'said',\n",
              " 'Friday',\n",
              " 'an',\n",
              " 'investigation',\n",
              " 'of']"
            ]
          },
          "metadata": {},
          "execution_count": 80
        }
      ]
    },
    {
      "cell_type": "code",
      "metadata": {
        "colab": {
          "base_uri": "https://localhost:8080/"
        },
        "id": "_bYFCWb5Hwq_",
        "outputId": "8dce3013-968d-4a73-baed-73efb4dff07c"
      },
      "source": [
        "target_word = \"East\"\n",
        "target_word_counts_per_doc = []\n",
        "for doc in brown.fileids(): \n",
        "  # print(doc)\n",
        "  words_in_doc = brown.words(doc)\n",
        "  count_of_target_word = len([word for word in words_in_doc if word == target_word])\n",
        "  # print(count_of_target_word)\n",
        "  target_word_counts_per_doc.append(count_of_target_word)\n",
        "print(target_word_counts_per_doc)\n"
      ],
      "execution_count": null,
      "outputs": [
        {
          "output_type": "stream",
          "name": "stdout",
          "text": [
            "[0, 0, 1, 0, 4, 0, 1, 0, 0, 1, 0, 0, 0, 0, 0, 0, 0, 0, 0, 1, 3, 0, 0, 0, 1, 0, 0, 0, 0, 1, 0, 2, 0, 3, 0, 0, 0, 0, 0, 0, 0, 0, 0, 1, 0, 10, 0, 1, 0, 2, 0, 0, 0, 0, 3, 0, 0, 0, 18, 0, 1, 3, 9, 5, 0, 0, 0, 0, 0, 0, 0, 0, 0, 0, 0, 0, 0, 1, 0, 0, 0, 0, 0, 0, 0, 0, 4, 0, 0, 0, 0, 0, 0, 0, 2, 3, 0, 0, 0, 0, 0, 0, 0, 0, 0, 1, 0, 0, 0, 0, 0, 0, 0, 0, 0, 1, 2, 2, 0, 0, 0, 0, 0, 0, 0, 0, 0, 0, 0, 0, 0, 0, 0, 0, 0, 0, 0, 0, 0, 0, 0, 0, 0, 0, 0, 0, 0, 0, 0, 1, 0, 0, 0, 0, 0, 0, 2, 0, 0, 0, 0, 1, 0, 1, 0, 0, 0, 0, 0, 0, 1, 0, 0, 0, 1, 0, 0, 1, 0, 0, 0, 0, 1, 0, 0, 0, 2, 0, 0, 0, 0, 0, 0, 2, 0, 0, 0, 0, 0, 0, 0, 0, 0, 0, 0, 1, 2, 0, 0, 0, 0, 0, 0, 0, 0, 1, 1, 0, 0, 0, 0, 0, 0, 0, 0, 4, 0, 0, 0, 0, 0, 0, 0, 0, 0, 0, 0, 0, 0, 0, 0, 0, 0, 0, 0, 0, 0, 0, 0, 2, 0, 0, 0, 0, 0, 0, 0, 0, 0, 0, 1, 1, 0, 0, 0, 0, 0, 0, 0, 0, 1, 0, 1, 0, 0, 0, 1, 0, 0, 0, 0, 0, 0, 0, 0, 0, 0, 0, 0, 0, 0, 0, 0, 0, 0, 0, 0, 0, 0, 0, 0, 0, 0, 0, 0, 0, 0, 0, 0, 0, 0, 0, 0, 0, 0, 0, 0, 0, 0, 0, 0, 0, 0, 0, 0, 0, 0, 0, 0, 9, 0, 0, 0, 0, 0, 0, 0, 0, 0, 0, 0, 0, 0, 0, 0, 0, 0, 1, 0, 2, 0, 0, 0, 1, 1, 0, 0, 0, 0, 0, 0, 0, 0, 0, 0, 0, 0, 0, 0, 0, 0, 0, 0, 0, 0, 0, 0, 0, 0, 0, 0, 0, 0, 0, 0, 0, 1, 0, 0, 2, 0, 1, 0, 1, 0, 0, 0, 0, 0, 1, 0, 0, 0, 0, 0, 0, 1, 0, 0, 0, 0, 0, 0, 0, 0, 0, 0, 0, 0, 0, 0, 0, 0, 0, 0, 0, 0, 0, 0, 0, 0, 0, 0, 0, 0, 0, 0, 0, 0, 0, 0, 0, 0, 0, 0, 0, 0, 0, 0, 0, 0, 0, 0, 0, 0, 0, 0, 0, 0, 0, 0, 0, 0, 3, 0, 0, 0, 0, 0, 0, 0, 1, 0, 0, 0, 0, 0, 0, 0, 0, 0, 0, 0, 0, 0, 0, 0, 0, 0, 0, 0, 0, 0, 0, 0, 0, 0, 0, 0, 0]\n"
          ]
        }
      ]
    },
    {
      "cell_type": "code",
      "metadata": {
        "colab": {
          "base_uri": "https://localhost:8080/",
          "height": 317
        },
        "id": "14k3pVoXVaEe",
        "outputId": "c86b00b5-f808-4fb4-efb2-ebe5a0cf350d"
      },
      "source": [
        "# Maximum Likelyhood Estimation for Poisson distribution\n",
        "# It turn out we are just looking for the sample mean\n",
        "# Nah, this did not work out. \n",
        "max_word_count = max(target_word_counts_per_doc)\n",
        "\n",
        "bins = np.arange(0, max_word_count, 1)\n",
        "word_counts = plt.hist(target_word_counts_per_doc, edgecolor='black', histtype='stepfilled', range=(0, max_word_count),  bins=bins)\n",
        "np.mean(word_counts[0])\n",
        "\n",
        "print(word_counts[0])\n",
        "\n",
        "# How many document contain the word\n",
        "print(len(list(filter( lambda x: x !=0, target_word_counts_per_doc))))"
      ],
      "execution_count": null,
      "outputs": [
        {
          "output_type": "stream",
          "name": "stdout",
          "text": [
            "[438.  36.  12.   6.   3.   1.   0.   0.   0.   2.   1.   0.   0.   0.\n",
            "   0.   0.   0.]\n",
            "62\n"
          ]
        },
        {
          "output_type": "display_data",
          "data": {
            "image/png": "[encoded data removed]",
            "text/plain": [
              "<Figure size 432x288 with 1 Axes>"
            ]
          },
          "metadata": {
            "needs_background": "light"
          }
        }
      ]
    },
    {
      "cell_type": "code",
      "metadata": {
        "colab": {
          "base_uri": "https://localhost:8080/",
          "height": 331
        },
        "id": "SIsOUBlWL85x",
        "outputId": "fe536f7d-1cf2-48bb-b699-42345e69d084"
      },
      "source": [
        "# Poisson Distribution\n",
        "\n",
        "plt.hist(target_word_counts_per_doc, edgecolor='black', histtype='stepfilled', range=(0,10), bins=[0,1,2,3,4,5,6,7,8,9,10])\n",
        "\n",
        "# Plot histogram for East\n",
        "# plt.hist(target_word_counts_per_doc, edgecolor='black', histtype='stepfilled', range=(0,6), bins=[0,1,2,3,4,5,6])\n",
        "\n",
        "plt.xlabel(f'Occurance of \\\"{target_word}\\\"')\n",
        "plt.ylabel('Frequency')\n",
        "\n",
        "# creating a numpy array for x-axis\n",
        "x = np.arange(0, 10, 1)\n",
        "\n",
        "# poisson distribution data for y-axis\n",
        "mu=1.999\n",
        "y = poisson.pmf(x, mu)\n",
        "print(y)\n",
        "X_Y_Spline = make_interp_spline(x, y*350)\n",
        " \n",
        "# Returns evenly spaced numbers\n",
        "# over a specified interval.\n",
        "X_ = np.linspace(x.min(), x.max(), 500)\n",
        "Poisson_Y_ = X_Y_Spline(X_)\n",
        " \n",
        "# # Plotting the Graph\n",
        "plt.plot(X_, Poisson_Y_, label=f'po({mu})')\n",
        "\n",
        "plt.legend()\n",
        "\n",
        "\n",
        "\n",
        "plt.show()"
      ],
      "execution_count": null,
      "outputs": [
        {
          "output_type": "stream",
          "name": "stdout",
          "text": [
            "[1.35470686e-01 2.70805902e-01 2.70670499e-01 1.80356776e-01\n",
            " 9.01332987e-02 3.60352928e-02 1.20057584e-02 3.42850157e-03\n",
            " 8.56696831e-04 1.90281885e-04]\n"
          ]
        },
        {
          "output_type": "display_data",
          "data": {
            "image/png": "[encoded data removed]",
            "text/plain": [
              "<Figure size 432x288 with 1 Axes>"
            ]
          },
          "metadata": {
            "needs_background": "light"
          }
        }
      ]
    },
    {
      "cell_type": "code",
      "metadata": {
        "colab": {
          "base_uri": "https://localhost:8080/",
          "height": 352
        },
        "id": "KNCp6lwxHwGc",
        "outputId": "df0b3598-3ac7-47e8-8b51-b0a0ca1b3d56"
      },
      "source": [
        "# Take a Chi-squared gooness of fit test on the Poisson modelling data\n",
        "max_word_count = max(target_word_counts_per_doc)\n",
        "max_bucket_count = 6\n",
        "bins = np.arange(0, max_word_count, 1)\n",
        "word_counts = plt.hist(target_word_counts_per_doc, edgecolor='black', histtype='stepfilled', range=(0, max_word_count),  bins=bins)[0]\n",
        "x = np.arange(0, len(word_counts), 1)\n",
        "\n",
        "potential_lambda = np.arange(0.01,2,.001)\n",
        "chi_square_values = []\n",
        "for lam in potential_lambda:\n",
        "  y = poisson.pmf(x, lam)\n",
        "  scaled_poisson = y*376\n",
        "  chi_square = chisquare(f_obs=word_counts[:max_bucket_count], f_exp=scaled_poisson[:max_bucket_count])\n",
        "  chi_square_values.append({\"lambda\": lam, \"stat_value\": chi_square[0], \"chi-square\": chi_square})\n",
        "\n",
        "print(chi_square_values[3]['stat_value'])\n",
        "min_num = min([val['stat_value'] for val in chi_square_values])\n",
        "print(min_num)\n",
        "\n",
        "for chi_square in chi_square_values:\n",
        "  if chi_square['stat_value'] == min_num:\n",
        "    print(chi_square)\n",
        "    break\n",
        "print(word_counts[:max_bucket_count])\n",
        "print(scaled_poisson[:max_bucket_count])"
      ],
      "execution_count": null,
      "outputs": [
        {
          "output_type": "stream",
          "name": "stdout",
          "text": [
            "192426.17877895376\n",
            "58.287706176107655\n",
            "{'lambda': 0.28799999999999976, 'stat_value': 58.287706176107655, 'chi-square': Power_divergenceResult(statistic=58.287706176107655, pvalue=1.3645263643305888e-12)}\n",
            "[393.  85.  15.   5.]\n",
            "[ 50.93697801 101.82301905 101.77210754  67.81414766]\n"
          ]
        },
        {
          "output_type": "display_data",
          "data": {
            "image/png": "[encoded data removed]",
            "text/plain": [
              "<Figure size 432x288 with 1 Axes>"
            ]
          },
          "metadata": {
            "needs_background": "light"
          }
        }
      ]
    },
    {
      "cell_type": "code",
      "metadata": {
        "colab": {
          "base_uri": "https://localhost:8080/",
          "height": 331
        },
        "id": "joDPsm_CkYKk",
        "outputId": "e373387c-27aa-40da-ad7b-df395e64d1ba"
      },
      "source": [
        "# Negative Binomial Distribtuion \n",
        "\n",
        "plt.hist(\n",
        "    target_word_counts_per_doc, edgecolor='black', \n",
        "    histtype='stepfilled', range=(0,10), bins=[0,1,2,3,4,5,6,7,8,9,10])\n",
        "plt.xlabel(f'Occurance of \\\"{target_word}\\\"')\n",
        "plt.ylabel('Frequency')\n",
        "\n",
        "# creating a numpy array for x-axis\n",
        "x = np.arange(0, 10, 1)\n",
        "nbin_n = .49\n",
        "nbin_p = 0.16\n",
        "\n",
        "# poisson distribution data for y-axis\n",
        "y = nbinom.pmf(x, nbin_n, nbin_p)\n",
        "X_Y_Spline = make_interp_spline(x, y*376)\n",
        " \n",
        "# Returns evenly spaced numbers\n",
        "# over a specified interval.\n",
        "X_ = np.linspace(x.min(), x.max(), 500)\n",
        "Negative_Binomial_Y_ = X_Y_Spline(X_)\n",
        " \n",
        "# Plotting the Graph\n",
        "plt.plot(X_, Negative_Binomial_Y_, label=f'nbin({nbin_n}, {nbin_p})')\n",
        "plt.legend()\n",
        "plt.show()\n"
      ],
      "execution_count": null,
      "outputs": [
        {
          "output_type": "stream",
          "name": "stdout",
          "text": [
            "[0 1 2 3 4 5 6 7 8 9]\n",
            "[0.40739791 0.16768498 0.10493726 0.07316226 0.05362062 0.0404471\n",
            " 0.03108764 0.02421106 0.01904079 0.01508792]\n"
          ]
        },
        {
          "output_type": "display_data",
          "data": {
            "image/png": "[encoded data removed]",
            "text/plain": [
              "<Figure size 432x288 with 1 Axes>"
            ]
          },
          "metadata": {
            "needs_background": "light"
          }
        }
      ]
    },
    {
      "cell_type": "code",
      "metadata": {
        "colab": {
          "base_uri": "https://localhost:8080/",
          "height": 317
        },
        "id": "TNYNSjPQHcaX",
        "outputId": "1d873733-027c-4ec0-845d-4b205bcd58c4"
      },
      "source": [
        "# Take a Chi-squared gooness of fit test on the Negative Binomial modelling data\n",
        "max_word_count = max(target_word_counts_per_doc)\n",
        "\n",
        "bins = np.arange(0, max_word_count, 1)\n",
        "word_counts = plt.hist(target_word_counts_per_doc, edgecolor='black', histtype='stepfilled', range=(0, max_word_count),  bins=bins)[0]\n",
        "x = np.arange(0, len(word_counts), 1)\n",
        "\n",
        "potential_n = np.arange(0.01,1.5,.01)\n",
        "potential_p = np.arange(0.01,1,.01)\n",
        "chi_square_values = []\n",
        "# print(potential_lambda)\n",
        "for n in potential_n:\n",
        "  for p in potential_p:\n",
        "    y = nbinom.pmf(x, n, p)\n",
        "    scaled_poisson = y*400\n",
        "    chi_square = chisquare(f_obs=word_counts[:max_bucket_count], f_exp=scaled_poisson[:max_bucket_count])\n",
        "    # print(chi_square)\n",
        "    chi_square_values.append({\"n\": n, \"p\": p, \"stat_value\": chi_square[0], \"chi-square\": chi_square})\n",
        "\n",
        "\n",
        "print(chi_square_values[3]['stat_value'])\n",
        "min_num = min([val['stat_value'] for val in chi_square_values])\n",
        "print(min_num)\n",
        "\n",
        "for chi_square in chi_square_values:\n",
        "  if chi_square['stat_value'] == min_num:\n",
        "    print(chi_square)\n",
        "    break\n",
        "\n",
        "# print(word_counts[:max_bucket_count])\n",
        "# print(scaled_poisson[:max_bucket_count])\n",
        "\n",
        "# # Analysis being done on the first 7 values\n",
        "# print(chisquare(f_obs=word_counts[:10], f_exp=scaled_poisson[:10]))\n",
        "\n",
        "\n"
      ],
      "execution_count": null,
      "outputs": [
        {
          "output_type": "stream",
          "name": "stdout",
          "text": [
            "1886.1995917459267\n",
            "25.527334860607446\n",
            "{'n': 1.01, 'p': 0.79, 'stat_value': 25.527334860607446, 'chi-square': Power_divergenceResult(statistic=25.527334860607446, pvalue=1.1977399420339897e-05)}\n"
          ]
        },
        {
          "output_type": "display_data",
          "data": {
            "image/png": "[encoded data removed]",
            "text/plain": [
              "<Figure size 432x288 with 1 Axes>"
            ]
          },
          "metadata": {
            "needs_background": "light"
          }
        }
      ]
    },
    {
      "cell_type": "code",
      "metadata": {
        "colab": {
          "base_uri": "https://localhost:8080/"
        },
        "id": "BTS9YRAju1YU",
        "outputId": "2daf2ac9-2ad4-491f-f80f-150174308d05"
      },
      "source": [
        "max_word_count"
      ],
      "execution_count": null,
      "outputs": [
        {
          "output_type": "execute_result",
          "data": {
            "text/plain": [
              "18"
            ]
          },
          "metadata": {},
          "execution_count": 31
        }
      ]
    },
    {
      "cell_type": "code",
      "metadata": {
        "colab": {
          "base_uri": "https://localhost:8080/",
          "height": 331
        },
        "id": "qT2H09L3LjRj",
        "outputId": "2ee0e6ff-5393-4339-de66-ec253b7c37b2"
      },
      "source": [
        "# Zero Inflation Poisson Mixture\n",
        "\n",
        "plt.hist(target_word_counts_per_doc, edgecolor='black', histtype='stepfilled', range=(0,10), bins=[0,1,2,3,4,5,6,7,8,9,10])\n",
        "\n",
        "# Plot histogram for East\n",
        "# plt.hist(target_word_counts_per_doc, edgecolor='black', histtype='stepfilled', range=(0,6), bins=[0,1,2,3,4,5,6])\n",
        "\n",
        "plt.xlabel(f'Occurance of \\\"{target_word}\\\"')\n",
        "plt.ylabel('Frequency')\n",
        "\n",
        "# Negative Binomial Distribtuion \n",
        "\n",
        "# creating a numpy array for x-axis\n",
        "x = np.arange(0, max_bucket_count, 1)\n",
        "n =  .5\n",
        "p = .16\n",
        "\n",
        "print(x)\n",
        "# poisson distribution data for y-axis\n",
        "z = 0.01\n",
        "y_equal_to_zero = nbinom.pmf(x[0], n, p)\n",
        "\n",
        "y_not_zero = nbinom.pmf(x[1:], n, p)*(1-z)\n",
        "print(\"y_not_zero\", y_not_zero)\n",
        "\n",
        "Zinf_y = np.insert(y_not_zero, 0, y_equal_to_zero)\n",
        "\n",
        "# print(\"y\", y*376)\n",
        "# X_Y_Spline = make_interp_spline(x, y)\n",
        " \n",
        "# Returns evenly spaced numbers\n",
        "# over a specified interval.\n",
        "# X_ = np.linspace(x.min(), x.max(), 500)\n",
        "# Y_ = X_Y_Spline(X_)\n",
        " \n",
        "# Plotting the Graph\n",
        "# plt.plot(X_, Y_, label=f'ZI-nbin(n, p)')\n",
        "plt.plot(x,Zinf_y*376, label=f'ZI-nbin({n}, {p})')\n",
        "plt.legend()\n",
        "plt.show()"
      ],
      "execution_count": null,
      "outputs": [
        {
          "output_type": "stream",
          "name": "stdout",
          "text": [
            "[0 1 2 3 4 5 6 7 8 9]\n",
            "y_not_zero [0.16632    0.1047816  0.07334712 0.05391013 0.04075606 0.03138217\n",
            " 0.02447809 0.0192765  0.01529269]\n"
          ]
        },
        {
          "output_type": "display_data",
          "data": {
            "image/png": "[encoded data removed]",
            "text/plain": [
              "<Figure size 432x288 with 1 Axes>"
            ]
          },
          "metadata": {
            "needs_background": "light"
          }
        }
      ]
    },
    {
      "cell_type": "code",
      "metadata": {
        "colab": {
          "base_uri": "https://localhost:8080/",
          "height": 317
        },
        "id": "AwObA5DmRMj_",
        "outputId": "3bdd398a-4ef3-40d5-c654-12af44665387"
      },
      "source": [
        "# Take a Chi-squared gooness of fit test on the Zero Inflated Neg Binomial modelling data\n",
        "max_word_count = max(target_word_counts_per_doc)\n",
        "max_bucket_count = 6\n",
        "bins = np.arange(0, max_word_count, 1)\n",
        "word_counts = plt.hist(target_word_counts_per_doc, edgecolor='black', histtype='stepfilled', range=(0, max_word_count),  bins=bins)[0]\n",
        "x = np.arange(0, len(word_counts), 1)\n",
        "# n = 0.49\n",
        "# p = 0.16\n",
        "z = 0.01\n",
        "# y = nbinom.pmf(x, n, p)\n",
        "# scaled_poisson = y*376\n",
        "\n",
        "\n",
        "potential_n = np.arange(0.01,2,.01)\n",
        "potential_p = np.arange(0.01,1,.01)\n",
        "# potential_z = np.arange(0.01,.5,.01)\n",
        "chi_square_values = []\n",
        "# print(potential_lambda)\n",
        "for n in potential_n:\n",
        "  for p in potential_p:\n",
        "    # for z in potential_z:\n",
        "    y_equal_to_zero = z+(1-z)*nbinom.pmf(x[0], n, p)\n",
        "    y_not_zero = nbinom.pmf(x[1:], n, p)*(1-z)\n",
        "    y = np.insert(y_not_zero, 0, y_equal_to_zero)\n",
        "\n",
        "    scaled_poisson = y*376\n",
        "    chi_square = chisquare(f_obs=word_counts[:max_bucket_count], f_exp=scaled_poisson[:max_bucket_count])\n",
        "    # print(chi_square)\n",
        "    chi_square_values.append({\"n\": n, \"p\": p, \"z\":z, \"stat_value\": chi_square[0], \"chi-square\": chi_square})\n",
        "\n",
        "\n",
        "print(chi_square_values[3]['stat_value'])\n",
        "min_num = min([val['stat_value'] for val in chi_square_values])\n",
        "print(min_num)\n",
        "\n",
        "for chi_square in chi_square_values:\n",
        "  if chi_square['stat_value'] == min_num:\n",
        "    print(chi_square)\n",
        "    break\n",
        "\n",
        "# print(word_counts[:10])\n",
        "# print(scaled_poisson[:10])\n",
        "\n",
        "# # Analysis being done on the first 7 values\n",
        "# print(chisquare(f_obs=word_counts[:10], f_exp=scaled_poisson[0:10]))\n"
      ],
      "execution_count": null,
      "outputs": [
        {
          "output_type": "stream",
          "name": "stdout",
          "text": [
            "413.4957894423402\n",
            "39.40460334023143\n",
            "{'n': 0.14, 'p': 0.4, 'z': 0.01, 'stat_value': 39.40460334023143, 'chi-square': Power_divergenceResult(statistic=39.40460334023143, pvalue=1.968634161574145e-07)}\n"
          ]
        },
        {
          "output_type": "display_data",
          "data": {
            "image/png": "[encoded data removed]",
            "text/plain": [
              "<Figure size 432x288 with 1 Axes>"
            ]
          },
          "metadata": {
            "needs_background": "light"
          }
        }
      ]
    },
    {
      "cell_type": "code",
      "metadata": {
        "colab": {
          "base_uri": "https://localhost:8080/"
        },
        "id": "5bo956DlLIDG",
        "outputId": "5d21f917-f58e-4f30-9c5d-18bf979d68d7"
      },
      "source": [
        "# chi_square_values\n",
        "z + (1-z)"
      ],
      "execution_count": null,
      "outputs": [
        {
          "output_type": "execute_result",
          "data": {
            "text/plain": [
              "1.0"
            ]
          },
          "metadata": {},
          "execution_count": 36
        }
      ]
    },
    {
      "cell_type": "code",
      "metadata": {
        "colab": {
          "base_uri": "https://localhost:8080/",
          "height": 279
        },
        "id": "Hu7KzdvG8ArU",
        "outputId": "a34b7ddd-e667-4c22-ed42-90d27d6a5fd7"
      },
      "source": [
        "plt.hist(target_word_counts_per_doc, edgecolor='black', histtype='stepfilled', range=(0,10), bins=[0,1,2,3,4,5,6,7,8,9,10])\n",
        "\n",
        "# Plot histogram for East\n",
        "# plt.hist(target_word_counts_per_doc, edgecolor='black', histtype='stepfilled', range=(0,6), bins=[0,1,2,3,4,5,6])\n",
        "\n",
        "plt.xlabel(f'Occurance of \\\"{target_word}\\\"')\n",
        "plt.ylabel('Frequency')\n",
        "\n",
        "# Plotting Poission\n",
        "plt.plot(X_, Poisson_Y_, label=f'po({mu})')\n",
        "\n",
        "\n",
        "# Plotting Negative Binomial\n",
        "plt.plot(X_, Negative_Binomial_Y_, label=f'nbin({nbin_n}, {nbin_p})')\n",
        "\n",
        "# Plotting Zinf\n",
        "plt.plot(x,Zinf_y*376, label=f'ZI-nbin({n}, {p})')\n",
        "\n",
        "plt.legend()\n",
        "\n",
        "plt.show()"
      ],
      "execution_count": null,
      "outputs": [
        {
          "output_type": "display_data",
          "data": {
            "image/png": "[encoded data removed]",
            "text/plain": [
              "<Figure size 432x288 with 1 Axes>"
            ]
          },
          "metadata": {
            "needs_background": "light"
          }
        }
      ]
    }
  ]
}